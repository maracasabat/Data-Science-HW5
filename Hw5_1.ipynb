{
  "nbformat": 4,
  "nbformat_minor": 0,
  "metadata": {
    "colab": {
      "provenance": [],
      "authorship_tag": "ABX9TyOAUoCqgwZk+Z9PMze1vLKN",
      "include_colab_link": true
    },
    "kernelspec": {
      "name": "python3",
      "display_name": "Python 3"
    },
    "language_info": {
      "name": "python"
    }
  },
  "cells": [
    {
      "cell_type": "markdown",
      "metadata": {
        "id": "view-in-github",
        "colab_type": "text"
      },
      "source": [
        "<a href=\"https://colab.research.google.com/github/maracasabat/Data-Science-HW5/blob/main/Hw5_1.ipynb\" target=\"_parent\"><img src=\"https://colab.research.google.com/assets/colab-badge.svg\" alt=\"Open In Colab\"/></a>"
      ]
    },
    {
      "cell_type": "markdown",
      "source": [
        "Для прямокутної області площею 1000 м2 , що примикає до прямої ділянки річки, необхідно побудувати огорожу (причому з боку річки огорожу будувати не потрібно). При яких розмірах області a, b довжина огорожі буде мінімальною? Використовуйте функцію minimize з параметрами обмежень bounds та constraints."
      ],
      "metadata": {
        "id": "EXSg7Os885pB"
      }
    },
    {
      "cell_type": "code",
      "execution_count": null,
      "metadata": {
        "id": "NA6o2i7i4jE4"
      },
      "outputs": [],
      "source": [
        "from scipy.optimize import minimize"
      ]
    },
    {
      "cell_type": "code",
      "source": [
        "def func(arg):\n",
        "    a, b = arg\n",
        "    return 2 * a + b"
      ],
      "metadata": {
        "id": "I54wIU8g6co2"
      },
      "execution_count": null,
      "outputs": []
    },
    {
      "cell_type": "code",
      "source": [
        "bounds = ((0, None), (0, None))\n",
        "constraints = ({'type': 'eq', 'fun': lambda x:  x[0] * x[1] - 1000})\n",
        "result = minimize(func, (0, 50), bounds=bounds, constraints=constraints)\n",
        "result"
      ],
      "metadata": {
        "colab": {
          "base_uri": "https://localhost:8080/"
        },
        "id": "25HO0QGj-2Vd",
        "outputId": "68c9479a-1f7c-4743-9c31-9755a3b3a288"
      },
      "execution_count": null,
      "outputs": [
        {
          "output_type": "execute_result",
          "data": {
            "text/plain": [
              "     fun: 89.44271910649056\n",
              "     jac: array([2., 1.])\n",
              " message: 'Optimization terminated successfully'\n",
              "    nfev: 25\n",
              "     nit: 8\n",
              "    njev: 8\n",
              "  status: 0\n",
              " success: True\n",
              "       x: array([22.36097616, 44.72076678])"
            ]
          },
          "metadata": {},
          "execution_count": 3
        }
      ]
    },
    {
      "cell_type": "code",
      "source": [
        "print(f'Довжина огорожі на коротких ділянках 2x {round(result.x[0], 3)} на довгій ділянці {round(result.x[1], 3)}. Загальна довжина {round(result.fun, 3)}')"
      ],
      "metadata": {
        "colab": {
          "base_uri": "https://localhost:8080/"
        },
        "id": "AvAMieuhBBbH",
        "outputId": "fcce38af-6c40-4147-96ac-28318c73a4d3"
      },
      "execution_count": null,
      "outputs": [
        {
          "output_type": "stream",
          "name": "stdout",
          "text": [
            "Довжина огорожі на коротких ділянках 2x 22.361 на довгій ділянці 44.721. Загальна довжина 89.443\n"
          ]
        }
      ]
    }
  ]
}